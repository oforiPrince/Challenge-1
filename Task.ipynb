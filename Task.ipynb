{
  "nbformat": 4,
  "nbformat_minor": 0,
  "metadata": {
    "colab": {
      "provenance": [],
      "authorship_tag": "ABX9TyNaFDYjQrp4rjCI4ounSorW",
      "include_colab_link": true
    },
    "kernelspec": {
      "name": "python3",
      "display_name": "Python 3"
    },
    "language_info": {
      "name": "python"
    }
  },
  "cells": [
    {
      "cell_type": "markdown",
      "metadata": {
        "id": "view-in-github",
        "colab_type": "text"
      },
      "source": [
        "<a href=\"https://colab.research.google.com/github/oforiPrince/Challenge-1/blob/main/Task.ipynb\" target=\"_parent\"><img src=\"https://colab.research.google.com/assets/colab-badge.svg\" alt=\"Open In Colab\"/></a>"
      ]
    },
    {
      "cell_type": "code",
      "execution_count": null,
      "metadata": {
        "colab": {
          "base_uri": "https://localhost:8080/"
        },
        "id": "m1Yj8ZPIinpo",
        "outputId": "fb7f7ebc-2781-47ba-d094-20df49184228"
      },
      "outputs": [
        {
          "output_type": "stream",
          "name": "stdout",
          "text": [
            "Requirement already satisfied: dash in /usr/local/lib/python3.10/dist-packages (2.18.1)\n",
            "Requirement already satisfied: Flask<3.1,>=1.0.4 in /usr/local/lib/python3.10/dist-packages (from dash) (2.2.5)\n",
            "Requirement already satisfied: Werkzeug<3.1 in /usr/local/lib/python3.10/dist-packages (from dash) (3.0.4)\n",
            "Requirement already satisfied: plotly>=5.0.0 in /usr/local/lib/python3.10/dist-packages (from dash) (5.24.1)\n",
            "Requirement already satisfied: dash-html-components==2.0.0 in /usr/local/lib/python3.10/dist-packages (from dash) (2.0.0)\n",
            "Requirement already satisfied: dash-core-components==2.0.0 in /usr/local/lib/python3.10/dist-packages (from dash) (2.0.0)\n",
            "Requirement already satisfied: dash-table==5.0.0 in /usr/local/lib/python3.10/dist-packages (from dash) (5.0.0)\n",
            "Requirement already satisfied: importlib-metadata in /usr/local/lib/python3.10/dist-packages (from dash) (8.4.0)\n",
            "Requirement already satisfied: typing-extensions>=4.1.1 in /usr/local/lib/python3.10/dist-packages (from dash) (4.12.2)\n",
            "Requirement already satisfied: requests in /usr/local/lib/python3.10/dist-packages (from dash) (2.32.3)\n",
            "Requirement already satisfied: retrying in /usr/local/lib/python3.10/dist-packages (from dash) (1.3.4)\n",
            "Requirement already satisfied: nest-asyncio in /usr/local/lib/python3.10/dist-packages (from dash) (1.6.0)\n",
            "Requirement already satisfied: setuptools in /usr/local/lib/python3.10/dist-packages (from dash) (71.0.4)\n",
            "Requirement already satisfied: Jinja2>=3.0 in /usr/local/lib/python3.10/dist-packages (from Flask<3.1,>=1.0.4->dash) (3.1.4)\n",
            "Requirement already satisfied: itsdangerous>=2.0 in /usr/local/lib/python3.10/dist-packages (from Flask<3.1,>=1.0.4->dash) (2.2.0)\n",
            "Requirement already satisfied: click>=8.0 in /usr/local/lib/python3.10/dist-packages (from Flask<3.1,>=1.0.4->dash) (8.1.7)\n",
            "Requirement already satisfied: tenacity>=6.2.0 in /usr/local/lib/python3.10/dist-packages (from plotly>=5.0.0->dash) (9.0.0)\n",
            "Requirement already satisfied: packaging in /usr/local/lib/python3.10/dist-packages (from plotly>=5.0.0->dash) (24.1)\n",
            "Requirement already satisfied: MarkupSafe>=2.1.1 in /usr/local/lib/python3.10/dist-packages (from Werkzeug<3.1->dash) (2.1.5)\n",
            "Requirement already satisfied: zipp>=0.5 in /usr/local/lib/python3.10/dist-packages (from importlib-metadata->dash) (3.20.2)\n",
            "Requirement already satisfied: charset-normalizer<4,>=2 in /usr/local/lib/python3.10/dist-packages (from requests->dash) (3.3.2)\n",
            "Requirement already satisfied: idna<4,>=2.5 in /usr/local/lib/python3.10/dist-packages (from requests->dash) (3.10)\n",
            "Requirement already satisfied: urllib3<3,>=1.21.1 in /usr/local/lib/python3.10/dist-packages (from requests->dash) (2.2.3)\n",
            "Requirement already satisfied: certifi>=2017.4.17 in /usr/local/lib/python3.10/dist-packages (from requests->dash) (2024.8.30)\n",
            "Requirement already satisfied: six>=1.7.0 in /usr/local/lib/python3.10/dist-packages (from retrying->dash) (1.16.0)\n"
          ]
        }
      ],
      "source": [
        "pip install dash"
      ]
    },
    {
      "cell_type": "code",
      "source": [
        "# Required Libraries\n",
        "import pandas as pd\n",
        "import dash\n",
        "from dash import dcc, html\n",
        "from dash.dependencies import Input, Output\n",
        "import plotly.express as px\n",
        "\n",
        "# Load the predictions data\n",
        "file_path = \"/content/xgboost_predictions_2024.csv\"\n",
        "predictions_df = pd.read_csv(file_path)\n",
        "\n",
        "# Initialize the Dash app\n",
        "app = dash.Dash(__name__)\n",
        "\n",
        "# Layout of the dashboard\n",
        "app.layout = html.Div([\n",
        "    html.H1(\"Pitch Mix Predictions by Player for 2024 MLB Season\"),\n",
        "    dcc.Dropdown(\n",
        "        id='player-dropdown',\n",
        "        options=[{'label': player, 'value': player} for player in predictions_df['PLAYER_NAME'].unique()],\n",
        "        value=predictions_df['PLAYER_NAME'].iloc[0],  # Default value\n",
        "        multi=False\n",
        "    ),\n",
        "    dcc.Graph(id='pitch-type-pie-chart'),\n",
        "    dcc.Graph(id='pitch-type-bar-chart'),\n",
        "    html.Button(\"Save Dashboard\", id=\"save-button\", n_clicks=0)\n",
        "])\n",
        "\n",
        "# Callback to update the pie chart based on selected player\n",
        "@app.callback(\n",
        "    Output('pitch-type-pie-chart', 'figure'),\n",
        "    Input('player-dropdown', 'value')\n",
        ")\n",
        "def update_pie_chart(selected_player):\n",
        "    # Filter the data for the selected player\n",
        "    player_data = predictions_df[predictions_df['PLAYER_NAME'] == selected_player].iloc[0]\n",
        "    # Create a pie chart\n",
        "    fig = px.pie(\n",
        "        names=['Fastball', 'Breaking Ball', 'Off-Speed'],\n",
        "        values=[player_data['PITCH_TYPE_FB'], player_data['PITCH_TYPE_BB'], player_data['PITCH_TYPE_OS']],\n",
        "        title=f'Expected Pitch Mix for {selected_player}'\n",
        "    )\n",
        "    return fig\n",
        "\n",
        "# Callback to update the bar chart based on selected player\n",
        "@app.callback(\n",
        "    Output('pitch-type-bar-chart', 'figure'),\n",
        "    Input('player-dropdown', 'value')\n",
        ")\n",
        "def update_bar_chart(selected_player):\n",
        "    # Filter the data for the selected player\n",
        "    player_data = predictions_df[predictions_df['PLAYER_NAME'] == selected_player].iloc[0]\n",
        "    # Prepare data for the bar chart\n",
        "    pitch_types = ['Fastball', 'Breaking Ball', 'Off-Speed']\n",
        "    pitch_values = [player_data['PITCH_TYPE_FB'], player_data['PITCH_TYPE_BB'], player_data['PITCH_TYPE_OS']]\n",
        "\n",
        "    # Create a bar chart\n",
        "    fig = px.bar(\n",
        "        x=pitch_types,\n",
        "        y=pitch_values,\n",
        "        title=f'Pitch Type Probabilities for {selected_player}',\n",
        "        labels={'x': 'Pitch Type', 'y': 'Probability'},\n",
        "        color=pitch_types\n",
        "    )\n",
        "    return fig\n",
        "\n",
        "# Save dashboard functionality\n",
        "@app.callback(\n",
        "    Output(\"save-button\", \"children\"),\n",
        "    Input(\"save-button\", \"n_clicks\")\n",
        ")\n",
        "def save_dashboard(n):\n",
        "    if n > 0:\n",
        "        # Save the dashboard to an HTML file\n",
        "        with open(\"pitch_predictions_dashboard.html\", \"w\") as f:\n",
        "            f.write(app.index_string)\n",
        "        return \"Dashboard saved!\"\n",
        "    return \"Save Dashboard\"\n",
        "\n",
        "# Run the app\n",
        "if __name__ == '__main__':\n",
        "    app.run_server(debug=True)\n"
      ],
      "metadata": {
        "colab": {
          "base_uri": "https://localhost:8080/",
          "height": 672
        },
        "id": "YCPwepi-jawH",
        "outputId": "398b1c4a-0967-499e-d54d-7362d0d1f4d9"
      },
      "execution_count": 10,
      "outputs": [
        {
          "output_type": "display_data",
          "data": {
            "text/plain": [
              "<IPython.core.display.Javascript object>"
            ],
            "application/javascript": [
              "(async (port, path, width, height, cache, element) => {\n",
              "    if (!google.colab.kernel.accessAllowed && !cache) {\n",
              "      return;\n",
              "    }\n",
              "    element.appendChild(document.createTextNode(''));\n",
              "    const url = await google.colab.kernel.proxyPort(port, {cache});\n",
              "    const iframe = document.createElement('iframe');\n",
              "    iframe.src = new URL(path, url).toString();\n",
              "    iframe.height = height;\n",
              "    iframe.width = width;\n",
              "    iframe.style.border = 0;\n",
              "    iframe.allow = [\n",
              "        'accelerometer',\n",
              "        'autoplay',\n",
              "        'camera',\n",
              "        'clipboard-read',\n",
              "        'clipboard-write',\n",
              "        'gyroscope',\n",
              "        'magnetometer',\n",
              "        'microphone',\n",
              "        'serial',\n",
              "        'usb',\n",
              "        'xr-spatial-tracking',\n",
              "    ].join('; ');\n",
              "    element.appendChild(iframe);\n",
              "  })(8050, \"/\", \"100%\", 650, false, window.element)"
            ]
          },
          "metadata": {}
        }
      ]
    }
  ]
}